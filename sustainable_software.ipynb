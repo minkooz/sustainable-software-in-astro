{
 "cells": [
  {
   "cell_type": "code",
   "execution_count": null,
   "metadata": {
    "collapsed": true,
    "slideshow": {
     "slide_type": "skip"
    }
   },
   "outputs": [],
   "source": [
    "from __future__ import print_function\n",
    "from matplotlib import pyplot as plt\n",
    "%matplotlib inline"
   ]
  },
  {
   "cell_type": "markdown",
   "metadata": {
    "slideshow": {
     "slide_type": "fragment"
    }
   },
   "source": [
    "<link rel=\"stylesheet\" href=\"reveal.js/css/theme/simple.css\" id=\"theme\">\n",
    "<link rel=\"stylesheet\" href=\"custom.css\" id=\"custom-tweaks\">"
   ]
  },
  {
   "cell_type": "markdown",
   "metadata": {
    "slideshow": {
     "slide_type": "slide"
    }
   },
   "source": [
    "## VOEventDB\n",
    "### and \n",
    "## Sustainable Software\n",
    "\n",
    "### Tim Staley  / [4pisky.org](http://4pisky.org)"
   ]
  },
  {
   "cell_type": "markdown",
   "metadata": {
    "slideshow": {
     "slide_type": "fragment"
    }
   },
   "source": [
    "Hotwiring the Transient Universe V\n",
    "\n",
    "Villanova, PA, Oct 2016"
   ]
  },
  {
   "cell_type": "markdown",
   "metadata": {
    "slideshow": {
     "slide_type": "notes"
    }
   },
   "source": [
    "Hi, I'm... For the past five years I've been working on 4 Pi Sky, which is a project focused on detection of radio-transients, and co-ordination of their follow-up. For this talk I was originally just going to present our recently publishing archiving and query tool VOEventDB, but: \n",
    "* Since the committee were kind of enough to give me an extended slot, I thought I should perhaps try to talk on a slightly broader theme\n",
    "* And: there's a load of documentation online already, which you can digest at your leisure!\n",
    "\n",
    "So, instead I thought I'd try to use VOEventDB as a sort of window onto a more general theme I've been thinking about recently, which I've put under the vague heading of sustainable software."
   ]
  },
  {
   "cell_type": "markdown",
   "metadata": {
    "slideshow": {
     "slide_type": "slide"
    }
   },
   "source": [
    "## Sustainable software? \n",
    "\n",
    "![Buzzword alert](img/sust.png)"
   ]
  },
  {
   "cell_type": "markdown",
   "metadata": {
    "slideshow": {
     "slide_type": "subslide"
    }
   },
   "source": [
    "## Sustainable software? \n",
    "\n",
    "* can be used by others\n",
    "* can be reused outside original context\n",
    "* can be modified by other devs\n",
    "* is robust to changing dependencies"
   ]
  },
  {
   "cell_type": "markdown",
   "metadata": {
    "slideshow": {
     "slide_type": "fragment"
    }
   },
   "source": [
    "### NB: kind of a Platonic ideal."
   ]
  },
  {
   "cell_type": "markdown",
   "metadata": {
    "slideshow": {
     "slide_type": "notes"
    }
   },
   "source": [
    "Definitions are many, fuzzy and varied. Here's mine:\n",
    "Sustainable software:\n",
    "* can be used by someone other than the dev that wrote it\n",
    " (Without the dev sat looking over their shoulder). This includes installation!\n",
    "* can be reused outside of its original context \n",
    "(perhaps with minor modification) \n",
    "* can be modified by someone other than the dev that wrote it\n",
    "* is robust to changing dependencies - i.e. it won't break because some other library releases a new 'latest-and-greatest' version with an altered interface.\n",
    "\n",
    "It's a set of goals to bear in mind - no project is perfect, and there's a cost/reward trade-off.\n"
   ]
  },
  {
   "cell_type": "markdown",
   "metadata": {
    "slideshow": {
     "slide_type": "subslide"
    }
   },
   "source": [
    "## Why is this relevant?\n"
   ]
  },
  {
   "cell_type": "markdown",
   "metadata": {
    "slideshow": {
     "slide_type": "fragment"
    }
   },
   "source": [
    "* There have always been large multi-person / long-term software projects in astronomy.\n",
    "* (I think) we're seeing an explosion in the number of public 'smaller' codes (cf [ASCL](http://ascl.net/))\n",
    "* This is a **really good thing**, but comes with difficulties of success\n",
    "* The easier it is to evaluate, re-use, modify and recycle these codes, the better."
   ]
  },
  {
   "cell_type": "markdown",
   "metadata": {
    "slideshow": {
     "slide_type": "notes"
    }
   },
   "source": [
    "* There have always been a few large-multi person software projects in astronomy.\n",
    "* (I think) we're seeing an explosion in the number of 'small' codes, (previously, projects that would have been written by a PhD student and then disappeared?)\n",
    "* This is a **really good thing**, but comes with difficulties of success - hard to know what's out there, and whether it's any good.\n",
    "* The easier it is to evaluate, re-use, modify and recycle these codes, the better."
   ]
  },
  {
   "cell_type": "markdown",
   "metadata": {
    "slideshow": {
     "slide_type": "slide"
    }
   },
   "source": [
    "## What I'll try to cover\n",
    "\n",
    "* VOEventDB - what it's for, what it does\n",
    "* A few items on the 'sustainable software checklist'\n",
    "* (Python) Tooling to make your life easier\n",
    "\n"
   ]
  },
  {
   "cell_type": "markdown",
   "metadata": {
    "slideshow": {
     "slide_type": "notes"
    }
   },
   "source": [
    "... try to persuade you that opening up your code can be done with minimal time investment."
   ]
  },
  {
   "cell_type": "markdown",
   "metadata": {
    "slideshow": {
     "slide_type": "slide"
    }
   },
   "source": [
    "## VOEventDB, in brief\n",
    "\n"
   ]
  },
  {
   "cell_type": "markdown",
   "metadata": {
    "slideshow": {
     "slide_type": "subslide"
    }
   },
   "source": [
    "### Context\n",
    "* [VOEvent](http://voevent.rtfd.io/) is a standardised format for astronomical transient alerts.\n",
    "* [NASA-GCN](http://gcn.gsfc.nasa.gov/) have been transmitting alerts in this format for over 2 years.\n",
    "* Previously, there was no public archive for alerts in this format.\n",
    "\n",
    "* VOEvent standard has always referred to a 'registry' of 'repositories' - clear gap to fill."
   ]
  },
  {
   "cell_type": "markdown",
   "metadata": {
    "slideshow": {
     "slide_type": "subslide"
    }
   },
   "source": [
    "### VOEventDB: Spec\n",
    " * Store raw VOEvent XML, provide XML content at a persistent URL\n",
    " * Store a common subset of VOEvent metadata in regular database schema\n",
    " * Make queries based on this common subset\n",
    " * Including spatial (cone-search) and citation-based queries\n",
    " * 'RESTful' web-API\n",
    " * Python client-library for remote-queries"
   ]
  },
  {
   "cell_type": "markdown",
   "metadata": {
    "slideshow": {
     "slide_type": "subslide"
    }
   },
   "source": [
    "## Schema\n",
    "![schema](img/dbschema.png)\n",
    "\n"
   ]
  },
  {
   "cell_type": "markdown",
   "metadata": {
    "slideshow": {
     "slide_type": "subslide"
    }
   },
   "source": [
    "### Implementation\n",
    " * Postgres + SQLAlchemy\n",
    " * Spatial queries powered by [qc3](https://github.com/segasai/q3c) Postgres extension.\n",
    " * Flask-powered RESTful interface\n",
    " * Partially-autogenerated [documentation](http://voeventdb.rtfd.io).\n",
    " * Extensive test-suite using pytest fixtures."
   ]
  },
  {
   "cell_type": "markdown",
   "metadata": {
    "slideshow": {
     "slide_type": "fragment"
    }
   },
   "source": [
    "http://voeventdb.4pisky.org/"
   ]
  },
  {
   "cell_type": "code",
   "execution_count": 16,
   "metadata": {
    "collapsed": false,
    "slideshow": {
     "slide_type": "skip"
    }
   },
   "outputs": [
    {
     "name": "stdout",
     "output_type": "stream",
     "text": [
      "Proceed (y/n)? Proceed (y/n)? yes: standard output: Broken pipe\r\n"
     ]
    }
   ],
   "source": [
    "!yes | pip uninstall -q voeventdb.remote requests "
   ]
  },
  {
   "cell_type": "markdown",
   "metadata": {
    "slideshow": {
     "slide_type": "slide"
    }
   },
   "source": [
    "## Getting started: Client installation"
   ]
  },
  {
   "cell_type": "code",
   "execution_count": 17,
   "metadata": {
    "collapsed": false,
    "slideshow": {
     "slide_type": "subslide"
    }
   },
   "outputs": [
    {
     "name": "stdout",
     "output_type": "stream",
     "text": [
      "Collecting voeventdb.remote\n",
      "Collecting requests (from voeventdb.remote)\n",
      "  Using cached requests-2.11.1-py2.py3-none-any.whl\n",
      "Requirement already satisfied (use --upgrade to upgrade): six in /home/staley/.virtualenvs/jupyterpres/lib/python2.7/site-packages (from voeventdb.remote)\n",
      "Requirement already satisfied (use --upgrade to upgrade): simplejson in /home/staley/.virtualenvs/jupyterpres/lib/python2.7/site-packages (from voeventdb.remote)\n",
      "Requirement already satisfied (use --upgrade to upgrade): astropy in /home/staley/.virtualenvs/jupyterpres/lib/python2.7/site-packages (from voeventdb.remote)\n",
      "Requirement already satisfied (use --upgrade to upgrade): pytz in /home/staley/.virtualenvs/jupyterpres/lib/python2.7/site-packages (from voeventdb.remote)\n",
      "Requirement already satisfied (use --upgrade to upgrade): iso8601 in /home/staley/.virtualenvs/jupyterpres/lib/python2.7/site-packages (from voeventdb.remote)\n",
      "Requirement already satisfied (use --upgrade to upgrade): numpy>=1.7.0 in /home/staley/.virtualenvs/jupyterpres/lib/python2.7/site-packages (from astropy->voeventdb.remote)\n",
      "Installing collected packages: requests, voeventdb.remote\n",
      "Successfully installed requests-2.11.1 voeventdb.remote-1.0.0\n"
     ]
    }
   ],
   "source": [
    "!pip install voeventdb.remote"
   ]
  },
  {
   "cell_type": "code",
   "execution_count": 26,
   "metadata": {
    "collapsed": false,
    "slideshow": {
     "slide_type": "subslide"
    }
   },
   "outputs": [
    {
     "data": {
      "text/plain": [
       "1271241"
      ]
     },
     "execution_count": 26,
     "metadata": {},
     "output_type": "execute_result"
    }
   ],
   "source": [
    "import voeventdb.remote.apiv1 as api\n",
    "api.count()"
   ]
  },
  {
   "cell_type": "code",
   "execution_count": 19,
   "metadata": {
    "collapsed": false,
    "slideshow": {
     "slide_type": "subslide"
    }
   },
   "outputs": [
    {
     "data": {
      "text/plain": [
       "{u'com.dc3/dc3.broker': 22570,\n",
       " u'nasa.gsfc.gcn/AGILE': 6174,\n",
       " u'nasa.gsfc.gcn/AMON': 4,\n",
       " u'nasa.gsfc.gcn/CALET': 79,\n",
       " u'nasa.gsfc.gcn/CAlet': 1,\n",
       " u'nasa.gsfc.gcn/COUNTERPART': 113,\n",
       " u'nasa.gsfc.gcn/Fermi': 41556,\n",
       " u'nasa.gsfc.gcn/GRO': 6569,\n",
       " u'nasa.gsfc.gcn/HETE': 6014,\n",
       " u'nasa.gsfc.gcn/INTEGRAL': 33120,\n",
       " u'nasa.gsfc.gcn/IPN': 486,\n",
       " u'nasa.gsfc.gcn/KONUS': 449,\n",
       " u'nasa.gsfc.gcn/MAXI': 6369,\n",
       " u'nasa.gsfc.gcn/MOA': 1553,\n",
       " u'nasa.gsfc.gcn/SNEWS': 44,\n",
       " u'nasa.gsfc.gcn/SUZAKU': 17,\n",
       " u'nasa.gsfc.gcn/SWIFT': 1117763,\n",
       " u'nasa.gsfc.gcn/UNRECOGNIZED_TYPE': 2,\n",
       " u'nvo.caltech/voeventnet/catot': 66,\n",
       " u'nvo.caltech/voeventnet/mlsot': 147,\n",
       " u'svomcgft.naoc/VOEVENTTEST': 3091,\n",
       " u'voevent.4pisky.org/ALARRM-OBSTEST': 5780,\n",
       " u'voevent.4pisky.org/ALARRM-REQUEST': 42,\n",
       " u'voevent.4pisky.org/ASASSN': 1747,\n",
       " u'voevent.4pisky.org/GAIA': 1272,\n",
       " u'voevent.4pisky.org/TEST': 10,\n",
       " u'voevent.4pisky.org/TEST-RESPONSE': 14,\n",
       " u'voevent.4pisky.org/TEST-TRIGGER': 14,\n",
       " u'voevent.4pisky.org/voevent-broadcast': 7761,\n",
       " u'voevent.4pisky.org/voevent-receive': 7724,\n",
       " u'voevent.phys.soton.ac.uk/AMI-REQUEST': 84}"
      ]
     },
     "execution_count": 19,
     "metadata": {},
     "output_type": "execute_result"
    }
   ],
   "source": [
    "api.map_stream_count()"
   ]
  },
  {
   "cell_type": "code",
   "execution_count": 20,
   "metadata": {
    "collapsed": false,
    "slideshow": {
     "slide_type": "subslide"
    }
   },
   "outputs": [
    {
     "data": {
      "text/plain": [
       "{u'nasa.gsfc.gcn/AMON': 4,\n",
       " u'nasa.gsfc.gcn/CALET': 79,\n",
       " u'nasa.gsfc.gcn/CAlet': 1,\n",
       " u'nasa.gsfc.gcn/COUNTERPART': 113,\n",
       " u'nasa.gsfc.gcn/Fermi': 8072,\n",
       " u'nasa.gsfc.gcn/INTEGRAL': 1111,\n",
       " u'nasa.gsfc.gcn/IPN': 486,\n",
       " u'nasa.gsfc.gcn/KONUS': 449,\n",
       " u'nasa.gsfc.gcn/MAXI': 269,\n",
       " u'nasa.gsfc.gcn/MOA': 1553,\n",
       " u'nasa.gsfc.gcn/SUZAKU': 17,\n",
       " u'nasa.gsfc.gcn/SWIFT': 1042121,\n",
       " u'nvo.caltech/voeventnet/catot': 66,\n",
       " u'nvo.caltech/voeventnet/mlsot': 147,\n",
       " u'voevent.4pisky.org/ASASSN': 1747,\n",
       " u'voevent.4pisky.org/GAIA': 1272}"
      ]
     },
     "execution_count": 20,
     "metadata": {},
     "output_type": "execute_result"
    }
   ],
   "source": [
    "filters={api.FilterKeys.role:'observation'}\n",
    "api.map_stream_count(filters)"
   ]
  },
  {
   "cell_type": "markdown",
   "metadata": {
    "slideshow": {
     "slide_type": "subslide"
    }
   },
   "source": [
    "### Extensive examples:\n",
    "http://voeventdbremote.readthedocs.io/\n"
   ]
  },
  {
   "cell_type": "markdown",
   "metadata": {
    "slideshow": {
     "slide_type": "fragment"
    }
   },
   "source": [
    "Back up a moment..."
   ]
  },
  {
   "cell_type": "code",
   "execution_count": null,
   "metadata": {
    "collapsed": false,
    "slideshow": {
     "slide_type": "subslide"
    }
   },
   "outputs": [],
   "source": [
    "!pip install voeventdb.remote"
   ]
  },
  {
   "cell_type": "markdown",
   "metadata": {
    "slideshow": {
     "slide_type": "subslide"
    }
   },
   "source": [
    "### What just happened?\n",
    "* Pip fetched the relevant source-code package from the Python Package Index\n",
    "* Read *setup.py*, parsed the list of dependencies\n",
    "* Checked what's currently installed, fetched those missing (possibly from the local cache).\n",
    "* Installs each of those dependencies in turn, \n",
    "* then installs our package\n"
   ]
  },
  {
   "cell_type": "markdown",
   "metadata": {
    "slideshow": {
     "slide_type": "slide"
    }
   },
   "source": [
    "### Packaging \n",
    "* Encourages re-use as a component\n",
    "* Removes 'install friction': just add a package to your requirements list\n",
    "* Adoption has historically been slowed due to fragmented ecosystem, lack of good docs.\n",
    "* Good, short, up-to-date tutorial on packaging your code: http://python-packaging.readthedocs.io/"
   ]
  },
  {
   "cell_type": "markdown",
   "metadata": {
    "slideshow": {
     "slide_type": "fragment"
    }
   },
   "source": [
    "### One snag..."
   ]
  },
  {
   "cell_type": "markdown",
   "metadata": {
    "slideshow": {
     "slide_type": "subslide"
    }
   },
   "source": [
    "*setup.py*:"
   ]
  },
  {
   "cell_type": "code",
   "execution_count": null,
   "metadata": {
    "collapsed": false,
    "slideshow": {
     "slide_type": "-"
    }
   },
   "outputs": [],
   "source": [
    "#!/usr/bin/env python\n",
    "from setuptools import setup, find_packages\n",
    "\n",
    "install_requires = [\n",
    "    'iso8601',\n",
    "    'pytz',\n",
    "    'requests',\n",
    "    'simplejson',\n",
    "    'astropy',\n",
    "    'six',\n",
    "]\n",
    "packages = find_packages()\n",
    "setup(\n",
    "    name=\"voeventdb.remote\",\n",
    "    version=0.1,\n",
    "    description=\"Client-lib for remote queries...\",\n",
    "    author=\"Tim Staley\",\n",
    "    author_email=\"github@timstaley.co.uk\",\n",
    "    url=\"https://github.com/timstaley/voeventdb.remote\",\n",
    "    packages=packages,\n",
    "    install_requires=install_requires,\n",
    ")\n"
   ]
  },
  {
   "cell_type": "markdown",
   "metadata": {
    "slideshow": {
     "slide_type": "notes"
    }
   },
   "source": [
    "* This is (a condensed version of) the setup.py for voeventdb.remote.\n",
    "* It's almost all boilerplate which you could easily modify to any other project- author details, a list of dependencies, and so on.\n",
    "* Mostly, you can set this up once and then forget about it.\n",
    "* Howver, I'd like to draw attention to the version, because this can quickly become a pain."
   ]
  },
  {
   "cell_type": "markdown",
   "metadata": {
    "slideshow": {
     "slide_type": "subslide"
    }
   },
   "source": [
    "### Package Versioning\n",
    "\n",
    "[Versioneer](https://github.com/warner/python-versioneer/blob/master/INSTALL.md):\n",
    "* Adds a standalone Python module to your codebase\n",
    "* Automatically sets version number according to most recent git-tag\n",
    "* Git commit-id also available as a string in your library.\n",
    "* Super convenient, keeps everything in sync"
   ]
  },
  {
   "cell_type": "markdown",
   "metadata": {
    "slideshow": {
     "slide_type": "skip"
    }
   },
   "source": [
    "*setup.cfg*:\n",
    "```\n",
    "[versioneer]\n",
    "VCS = git\n",
    "style = pep440\n",
    "versionfile_source = voeventdb/remote/_version.py\n",
    "versionfile_build = voeventdb/remote/_version.py\n",
    "tag_prefix =\n",
    "parentdir_prefix = voeventdb.server-\n",
    "```"
   ]
  },
  {
   "cell_type": "markdown",
   "metadata": {
    "slideshow": {
     "slide_type": "subslide"
    }
   },
   "source": [
    "*setup.py* with Versioneer:"
   ]
  },
  {
   "cell_type": "code",
   "execution_count": null,
   "metadata": {
    "collapsed": false,
    "slideshow": {
     "slide_type": "-"
    }
   },
   "outputs": [],
   "source": [
    "#!/usr/bin/env python\n",
    "import versioneer\n",
    "\n",
    "setup(\n",
    "    name=\"voeventdb.remote\",\n",
    "    version=versioneer.get_version(),\n",
    "    cmdclass=versioneer.get_cmdclass(),\n",
    "    \"...\",\n",
    ")"
   ]
  },
  {
   "cell_type": "code",
   "execution_count": 22,
   "metadata": {
    "collapsed": false,
    "slideshow": {
     "slide_type": "subslide"
    }
   },
   "outputs": [
    {
     "name": "stdout",
     "output_type": "stream",
     "text": [
      "Git tag: 1.0.0\n",
      "Git commit-id: 02b727d168797a9ae9bc6835c15b37e384ea1557\n"
     ]
    }
   ],
   "source": [
    "import voeventdb.remote\n",
    "print(\"Git tag:\", voeventdb.remote.__version__)\n",
    "print(\"Git commit-id:\", voeventdb.remote.__versiondict__['full-revisionid'])"
   ]
  },
  {
   "cell_type": "markdown",
   "metadata": {
    "slideshow": {
     "slide_type": "slide"
    }
   },
   "source": [
    "## Documentation\n"
   ]
  },
  {
   "cell_type": "markdown",
   "metadata": {
    "slideshow": {
     "slide_type": "subslide"
    }
   },
   "source": [
    "### Minimal docs:\n",
    "* Description of what your package does (+ links for context!)\n",
    "* One or two brief usage examples\n",
    "* One big README is typically fine\n"
   ]
  },
  {
   "cell_type": "markdown",
   "metadata": {
    "slideshow": {
     "slide_type": "subslide"
    }
   },
   "source": [
    "### Extended docs:\n",
    "* Maybe also some autogenerated-API docs (see [sphinx](http://www.sphinx-doc.org/), [sphinx-napoleon](https://sphinxcontrib-napoleon.readthedocs.io)).\n",
    "* **Put it on [ReadTheDocs](https://docs.readthedocs.io/)**\n"
   ]
  },
  {
   "cell_type": "markdown",
   "metadata": {
    "slideshow": {
     "slide_type": "subslide"
    }
   },
   "source": [
    "### Read The Docs:\n",
    "* Free hosting for Sphinx-generated documentation\n",
    "* Links to a Github repository\n",
    "* Every git-push results in a new documentation build"
   ]
  },
  {
   "cell_type": "markdown",
   "metadata": {
    "slideshow": {
     "slide_type": "skip"
    }
   },
   "source": [
    "* API documentation is semi-automated - write docs next to the code\n",
    "* See also [sphinx-napoleon](https://sphinxcontrib-napoleon.readthedocs.io) (nicer formatting).\n"
   ]
  },
  {
   "cell_type": "code",
   "execution_count": null,
   "metadata": {
    "collapsed": true,
    "slideshow": {
     "slide_type": "skip"
    }
   },
   "outputs": [],
   "source": [
    "def valid_as_v2_0(voevent):\n",
    "    \"\"\"Tests if a voevent conforms to the schema.\n",
    "\n",
    "    Args:\n",
    "        voevent(:class:`Voevent`): Root node of a VOEvent etree.\n",
    "    Returns:\n",
    "        bool: True if VOEvent is valid\n",
    "    \"\"\"\n",
    "    _return_to_standard_xml(voevent)\n",
    "    valid_bool = voevent_v2_0_schema.validate(voevent)\n",
    "    _remove_root_tag_prefix(voevent)\n",
    "    return valid_bool"
   ]
  },
  {
   "cell_type": "markdown",
   "metadata": {
    "slideshow": {
     "slide_type": "skip"
    }
   },
   "source": [
    "![sphinx](img/sphinx.gif)\n"
   ]
  },
  {
   "cell_type": "markdown",
   "metadata": {
    "slideshow": {
     "slide_type": "subslide"
    }
   },
   "source": [
    "### Documenting examples\n",
    "* Examples are very useful... until the code changes and they go stale\n",
    "* Python notebooks are a great format for writing examples - but tricky to publish."
   ]
  },
  {
   "cell_type": "markdown",
   "metadata": {
    "slideshow": {
     "slide_type": "subslide"
    }
   },
   "source": [
    "### Documenting examples with nbsphinx & RTD\n",
    "* [nbsphinx](https://nbsphinx.readthedocs.io/) lets you generate docs from notebooks.\n",
    "* The notebooks are re-run with every docs-build - so if the examples are broken, you'll notice.\n",
    "* This is how the [voeventdb client-docs](http://voeventdbremote.readthedocs.io/) are generated."
   ]
  },
  {
   "cell_type": "markdown",
   "metadata": {
    "slideshow": {
     "slide_type": "notes"
    }
   },
   "source": [
    "Note: The cake is a lie. This isn't **actually** how the voeventdb.remote docs are generated, because nbsphinx was only released around the same time as I was writing those docs. I hacked something together before finding nbsphinx. But if I were writing those docs today, I'd use nbsphinx, and I'll likely migrate the existing docs at some point."
   ]
  },
  {
   "cell_type": "markdown",
   "metadata": {
    "slideshow": {
     "slide_type": "slide"
    }
   },
   "source": [
    "### Deployment & Hosting\n",
    " "
   ]
  },
  {
   "cell_type": "markdown",
   "metadata": {
    "slideshow": {
     "slide_type": "skip"
    }
   },
   "source": [
    "* Served via Apache + mod_wsgi\n",
    "* Use [Comet](http://comet.readthedocs.io/) to receive latest VOEvents.\n",
    "* Hosted on a virtual machine in the cloud (Digital Ocean)\n",
    "* (This required a little bit of care and tracking down RAM usage) "
   ]
  },
  {
   "cell_type": "markdown",
   "metadata": {
    "slideshow": {
     "slide_type": "subslide"
    }
   },
   "source": [
    "![deploy](img/vonode.gif)"
   ]
  },
  {
   "cell_type": "markdown",
   "metadata": {
    "slideshow": {
     "slide_type": "subslide"
    }
   },
   "source": [
    "\n",
    "* Deploments scripted with [Ansible](http://docs.ansible.com/ansible/index.html)\n",
    "* Deployment scripts are [open-source!](https://github.com/4pisky/4pisky-voeventdb)\n",
    "* Can test-drive locally using [VirtualBox](https://www.virtualbox.org/wiki/Downloads) and [Vagrant](https://www.vagrantup.com/)"
   ]
  },
  {
   "cell_type": "markdown",
   "metadata": {
    "slideshow": {
     "slide_type": "fragment"
    }
   },
   "source": [
    "For multi-component systems, deployment details are **crucial**."
   ]
  },
  {
   "cell_type": "markdown",
   "metadata": {
    "slideshow": {
     "slide_type": "slide"
    }
   },
   "source": [
    "## Related issues I've not had time to cover\n",
    "\n"
   ]
  },
  {
   "cell_type": "markdown",
   "metadata": {
    "slideshow": {
     "slide_type": "notes"
    }
   },
   "source": [
    "(But you should be aware of it you're new to astronomy, or academia in general. And it's perhaps worth reminding those of you with tenure.)"
   ]
  },
  {
   "cell_type": "markdown",
   "metadata": {
    "slideshow": {
     "slide_type": "subslide"
    }
   },
   "source": [
    "* The basics / extended checklist for writing 'good' software - to all new grad students I would recommend   \n",
    "    * [Wilson et al 2014, Best Practices for Scientific Computing](http://journals.plos.org/plosbiology/article?id=10.1371/journal.pbio.1001745), and \n",
    "    * [Wilson et al 2016, Good Enough Practices...](https://arxiv.org/abs/1609.00037)."
   ]
  },
  {
   "cell_type": "markdown",
   "metadata": {
    "slideshow": {
     "slide_type": "subslide"
    }
   },
   "source": [
    "* Lack of software development training for grad-students\n",
    " \n",
    " (What do we drop, to replace with [software-carpentry](http://software-carpentry.org/)?)"
   ]
  },
  {
   "cell_type": "markdown",
   "metadata": {
    "slideshow": {
     "slide_type": "notes"
    }
   },
   "source": [
    "Grads get lectures in electromagnetism, GR, stellar evolution, etc. What do we cut-out, or make optional?"
   ]
  },
  {
   "cell_type": "markdown",
   "metadata": {
    "slideshow": {
     "slide_type": "subslide"
    }
   },
   "source": [
    "* Lack of long-term career-path for 'research software engineers'\n",
    "\n",
    "(This is changing, slowly, e.g. [UCL's RSE team](https://www.ucl.ac.uk/research-it-services/research-software-development))"
   ]
  },
  {
   "cell_type": "markdown",
   "metadata": {
    "slideshow": {
     "slide_type": "notes"
    }
   },
   "source": [
    "There have always been a few employed on large multi-year projects (space missions, telescopes, etc), though this is perhaps a slightly different line of work to software development for general research.\n",
    "\n",
    "It's notable STSci now employs people to work solely on Astropy, though I don't know if those positions are permanent or time-limited.\n",
    "\n",
    "A few universities / departments have started to employ 'departmental software specialists' or even 'in-house consultancy teams' (cf [UCL](https://www.ucl.ac.uk/research-it-services/research-software-development))."
   ]
  },
  {
   "cell_type": "markdown",
   "metadata": {
    "slideshow": {
     "slide_type": "slide"
    }
   },
   "source": [
    "## Summary"
   ]
  },
  {
   "cell_type": "markdown",
   "metadata": {
    "slideshow": {
     "slide_type": "subslide"
    }
   },
   "source": [
    "### VOEventDB\n",
    "* Provides a 'turn-key' queryable repository for transient alerts.\n",
    "* Extensive user-docs at http://voeventdbremote.rtfd.io/\n",
    "* Overview paper:  [arXiv:1606.03735](https://arxiv.org/abs/1606.03735)"
   ]
  },
  {
   "cell_type": "markdown",
   "metadata": {
    "slideshow": {
     "slide_type": "subslide"
    }
   },
   "source": [
    "### Packaging\n",
    "* Make use of your packaging ecosystem\n",
    "* Think about use of your code as a component\n",
    "* Keep versioning information in your version control system! - automate package versioning"
   ]
  },
  {
   "cell_type": "markdown",
   "metadata": {
    "slideshow": {
     "slide_type": "subslide"
    }
   },
   "source": [
    "### Documentation\n",
    "* Minimum: description + example usage + install requirements\n",
    "* Documentation goes stale - test your examples\n",
    "* In Python, notebooks are a great format for this - try nbsphinx!"
   ]
  },
  {
   "cell_type": "markdown",
   "metadata": {
    "slideshow": {
     "slide_type": "subslide"
    }
   },
   "source": [
    "## Fin\n",
    "Thanks!"
   ]
  }
 ],
 "metadata": {
  "celltoolbar": "Slideshow",
  "kernelspec": {
   "display_name": "Python 2",
   "language": "python",
   "name": "python2"
  },
  "language_info": {
   "codemirror_mode": {
    "name": "ipython",
    "version": 2
   },
   "file_extension": ".py",
   "mimetype": "text/x-python",
   "name": "python",
   "nbconvert_exporter": "python",
   "pygments_lexer": "ipython2",
   "version": "2.7.12"
  }
 },
 "nbformat": 4,
 "nbformat_minor": 1
}
